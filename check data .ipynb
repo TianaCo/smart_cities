{
 "cells": [
  {
   "cell_type": "markdown",
   "metadata": {},
   "source": [
    "I keep PCT name is \"DOC\" and concat all three file to gather. You can remove \"DOC\" just add \n",
    "df[df[\"PCT\"] != \"DOC\"]"
   ]
  },
  {
   "cell_type": "code",
   "execution_count": 69,
   "metadata": {
    "collapsed": true
   },
   "outputs": [],
   "source": [
    "import pandas as pd"
   ]
  },
  {
   "cell_type": "code",
   "execution_count": 70,
   "metadata": {
    "collapsed": true
   },
   "outputs": [],
   "source": [
    "df = pd.read_csv('all_good.csv')"
   ]
  },
  {
   "cell_type": "code",
   "execution_count": 71,
   "metadata": {
    "collapsed": false
   },
   "outputs": [
    {
     "data": {
      "text/plain": [
       "Index([u'PCT', u'CRIME', u'2000', u'2001', u'2002', u'2003', u'2004', u'2005',\n",
       "       u'2006', u'2007', u'2008', u'2009', u'2010', u'2011', u'2012', u'2013',\n",
       "       u'2014', u'2015'],\n",
       "      dtype='object')"
      ]
     },
     "execution_count": 71,
     "metadata": {},
     "output_type": "execute_result"
    }
   ],
   "source": [
    "df.columns"
   ]
  },
  {
   "cell_type": "code",
   "execution_count": 72,
   "metadata": {
    "collapsed": false
   },
   "outputs": [
    {
     "data": {
      "text/plain": [
       "array(['1', '5', '6', '7', '9', '10', '13', '14', '17', '18', '19', '20',\n",
       "       '22', '23', '24', '25', '26', '28', '30', '32', '33', '34', '40',\n",
       "       '41', '42', '43', '44', '45', '46', '47', '48', '49', '50', '52',\n",
       "       '60', '61', '62', '63', '66', '67', '68', '69', '70', '71', '72',\n",
       "       '73', '75', '76', '77', '78', '79', '81', '83', '84', '88', '90',\n",
       "       '94', '100', '101', '102', '103', '104', '105', '106', '107', '108',\n",
       "       '109', '110', '111', '112', '113', '114', '115', '120', '121',\n",
       "       '122', '123', 'DOC'], dtype=object)"
      ]
     },
     "execution_count": 72,
     "metadata": {},
     "output_type": "execute_result"
    }
   ],
   "source": [
    "df.PCT.unique()"
   ]
  },
  {
   "cell_type": "code",
   "execution_count": 73,
   "metadata": {
    "collapsed": false
   },
   "outputs": [
    {
     "data": {
      "text/plain": [
       "array(['MURDER & NON NEGL. MANSLAUGHTER                                ',\n",
       "       'RAPE                                  ',\n",
       "       'ROBBERY                               ',\n",
       "       'FELONY ASSAULT                        ',\n",
       "       'BURGLARY                              ',\n",
       "       'GRAND LARCENY                         ',\n",
       "       'GRAND LARCENY OF MOTOR VEHICLE                                  ',\n",
       "       'TOTAL SEVEN MAJOR FELONY OFFENSES',\n",
       "       'FELONY POSSESSION STOLEN PROPERTY            ',\n",
       "       'FORGERY/THEFT-FRAUD/IDENTITY THEFT                ',\n",
       "       'ARSON                                 ', 'FELONY SEX CRIMES (3)',\n",
       "       'FELONY DANGEROUS DRUGS  (1)',\n",
       "       'FELONY DANGEROUS WEAPONS (2)        ',\n",
       "       'FEL. CRIMINAL MISCHIEF & RELATED OFFENSES  ', 'OTHER FELONIES (4)',\n",
       "       'TOTAL NON-SEVEN MAJOR FELONY OFFENSES',\n",
       "       'MISDEMEANOR POSSESSION OF STOLEN PROPERTY            ',\n",
       "       'MISDEMEANOR SEX CRIMES (4)', 'MISDEMEANOR DANGEROUS DRUGS  (1)',\n",
       "       'MISDEMEANOR DANGEROUS WEAPONS (5)               ',\n",
       "       'PETIT LARCENY                         ',\n",
       "       'ASSAULT 3 AND RELATED OFFENSES        ',\n",
       "       'INTOXICATED & IMPAIRED DRIVING              ',\n",
       "       'VEHICLE AND TRAFFIC LAWS              ',\n",
       "       'MISD. CRIMINAL MISCHIEF & RELATED OFFENSES  ', 'CRIMINAL TRESPASS',\n",
       "       'UNAUTHORIZED USE OF A VEHICLE           ',\n",
       "       'OFFENSES AGAINST THE PERSON (7)      ',\n",
       "       'OFFENSES AGAINST PUBLIC ADMINISTRATION (2)',\n",
       "       'ADMINISTRATIVE CODE (6)            ',\n",
       "       'FRAUDS (3)                    ',\n",
       "       'AGGRAVATED HARASSMENT 2               ', 'OTHER MISDEMEANORS (8)',\n",
       "       'TOTAL MISDEMEANOR OFFENSES'], dtype=object)"
      ]
     },
     "execution_count": 73,
     "metadata": {},
     "output_type": "execute_result"
    }
   ],
   "source": [
    "df.CRIME.unique()"
   ]
  },
  {
   "cell_type": "code",
   "execution_count": null,
   "metadata": {
    "collapsed": true
   },
   "outputs": [],
   "source": []
  }
 ],
 "metadata": {
  "kernelspec": {
   "display_name": "Python 2",
   "language": "python",
   "name": "python2"
  },
  "language_info": {
   "codemirror_mode": {
    "name": "ipython",
    "version": 2
   },
   "file_extension": ".py",
   "mimetype": "text/x-python",
   "name": "python",
   "nbconvert_exporter": "python",
   "pygments_lexer": "ipython2",
   "version": "2.7.8"
  }
 },
 "nbformat": 4,
 "nbformat_minor": 2
}
